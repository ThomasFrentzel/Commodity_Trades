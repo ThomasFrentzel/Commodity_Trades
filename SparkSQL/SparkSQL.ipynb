{
  "nbformat": 4,
  "nbformat_minor": 0,
  "metadata": {
    "colab": {
      "provenance": []
    },
    "kernelspec": {
      "name": "python3",
      "display_name": "Python 3"
    },
    "language_info": {
      "name": "python"
    }
  },
  "cells": [
    {
      "cell_type": "code",
      "execution_count": 1,
      "metadata": {
        "colab": {
          "base_uri": "https://localhost:8080/"
        },
        "id": "IZaFODMGluNI",
        "outputId": "987fe6a0-07bf-471a-8d97-663a5ddbfb09",
        "collapsed": true
      },
      "outputs": [
        {
          "output_type": "stream",
          "name": "stdout",
          "text": [
            "Requirement already satisfied: pyspark in /usr/local/lib/python3.10/dist-packages (3.5.3)\n",
            "Requirement already satisfied: py4j==0.10.9.7 in /usr/local/lib/python3.10/dist-packages (from pyspark) (0.10.9.7)\n"
          ]
        }
      ],
      "source": [
        "# Installing spark\n",
        "!pip install pyspark"
      ]
    },
    {
      "cell_type": "code",
      "source": [
        "# Importing the dataset\n",
        "!wget https://jpbarddal.github.io/assets/data/bigdata/transactions_amostra.csv.zip\n",
        "!unzip transactions_amostra.csv.zip"
      ],
      "metadata": {
        "colab": {
          "base_uri": "https://localhost:8080/"
        },
        "id": "NG_1eT-fmPTs",
        "outputId": "c701cefb-a64f-4794-a076-0ed8ea9972eb",
        "collapsed": true
      },
      "execution_count": 2,
      "outputs": [
        {
          "output_type": "stream",
          "name": "stdout",
          "text": [
            "--2024-12-17 04:56:11--  https://jpbarddal.github.io/assets/data/bigdata/transactions_amostra.csv.zip\n",
            "Resolving jpbarddal.github.io (jpbarddal.github.io)... 185.199.108.153, 185.199.109.153, 185.199.110.153, ...\n",
            "Connecting to jpbarddal.github.io (jpbarddal.github.io)|185.199.108.153|:443... connected.\n",
            "HTTP request sent, awaiting response... 200 OK\n",
            "Length: 47513871 (45M) [application/zip]\n",
            "Saving to: ‘transactions_amostra.csv.zip’\n",
            "\n",
            "transactions_amostr 100%[===================>]  45.31M  48.2MB/s    in 0.9s    \n",
            "\n",
            "2024-12-17 04:56:15 (48.2 MB/s) - ‘transactions_amostra.csv.zip’ saved [47513871/47513871]\n",
            "\n",
            "Archive:  transactions_amostra.csv.zip\n",
            "  inflating: transactions_amostra.csv  \n",
            "  inflating: __MACOSX/._transactions_amostra.csv  \n"
          ]
        }
      ]
    },
    {
      "cell_type": "code",
      "source": [
        "# Creating the session\n",
        "from pyspark.sql import SparkSession\n",
        "from pyspark.sql.functions import col, max, min, avg, count, concat_ws, lit, sum\n",
        "\n",
        "spark = SparkSession.builder\\\n",
        "                    .master('local[*]')\\\n",
        "                    .appName('theo').getOrCreate()\n",
        "sc = spark.sparkContext"
      ],
      "metadata": {
        "id": "OqvWqi1ImUZH"
      },
      "execution_count": 3,
      "outputs": []
    },
    {
      "cell_type": "code",
      "source": [
        "# Creating the dataframe loading the csv file\n",
        "df = spark.read.csv('transactions_amostra.csv',\n",
        "                    sep=';',\n",
        "                    header=True,\n",
        "                    inferSchema=True)"
      ],
      "metadata": {
        "id": "1NN2QscUmwOT"
      },
      "execution_count": 4,
      "outputs": []
    },
    {
      "cell_type": "code",
      "source": [
        "df.printSchema()\n",
        "\n",
        "df.createOrReplaceTempView('tabela')"
      ],
      "metadata": {
        "colab": {
          "base_uri": "https://localhost:8080/"
        },
        "id": "C00PWyK8nt_D",
        "outputId": "cac3a833-7afd-43a6-c7ce-8a23ec4976ca"
      },
      "execution_count": 5,
      "outputs": [
        {
          "output_type": "stream",
          "name": "stdout",
          "text": [
            "root\n",
            " |-- country_or_area: string (nullable = true)\n",
            " |-- year: integer (nullable = true)\n",
            " |-- comm_code: string (nullable = true)\n",
            " |-- commodity: string (nullable = true)\n",
            " |-- flow: string (nullable = true)\n",
            " |-- trade_usd: long (nullable = true)\n",
            " |-- weight_kg: double (nullable = true)\n",
            " |-- quantity_name: string (nullable = true)\n",
            " |-- quantity: double (nullable = true)\n",
            " |-- category: string (nullable = true)\n",
            "\n"
          ]
        }
      ]
    },
    {
      "cell_type": "code",
      "source": [
        "df.show()"
      ],
      "metadata": {
        "colab": {
          "base_uri": "https://localhost:8080/"
        },
        "id": "JLjPcqvjmzNd",
        "outputId": "b381fc26-27df-40ea-acfb-03d3b9067e1b"
      },
      "execution_count": 6,
      "outputs": [
        {
          "output_type": "stream",
          "name": "stdout",
          "text": [
            "+--------------------+----+---------+--------------------+---------+---------+------------+-------------------+------------+--------------------+\n",
            "|     country_or_area|year|comm_code|           commodity|     flow|trade_usd|   weight_kg|      quantity_name|    quantity|            category|\n",
            "+--------------------+----+---------+--------------------+---------+---------+------------+-------------------+------------+--------------------+\n",
            "|             Belgium|2016|   920510|Brass-wind instru...|   Export|   571297|      3966.0|    Number of items|      4135.0|92_musical_instru...|\n",
            "|           Guatemala|2008|   660200|Walking-sticks, s...|   Export|    35022|      5575.0|    Number of items|     10089.0|66_umbrellas_walk...|\n",
            "|            Barbados|2006|   220210|Beverage waters, ...|Re-Export|    81058|     44458.0|   Volume in litres|     24113.0|22_beverages_spir...|\n",
            "|             Tunisia|2016|   780411|Lead foil of a th...|   Import|     4658|       121.0|Weight in kilograms|       121.0|78_lead_and_artic...|\n",
            "|           Lithuania|1996|   560110|Sanitary towels, ...|   Export|    76499|      5419.0|Weight in kilograms|      5419.0|56_wadding_felt_n...|\n",
            "|             Denmark|2011|   310100|Animal or vegetab...|   Export|  4903675|  1.902844E7|Weight in kilograms|  1.902844E7|      31_fertilizers|\n",
            "|            Thailand|1994|   920290|String musical in...|   Import|  2088672|         0.0|    Number of items|     59595.0|92_musical_instru...|\n",
            "|            Portugal|2004|   511119|Woven fabric, >85...|   Export|  1546575|     87367.0|Weight in kilograms|     87367.0|51_wool_animal_ha...|\n",
            "|               Congo|2011|   420690|Articles of gut, ...|   Export|      883|         9.0|Weight in kilograms|         9.0|42_articles_of_le...|\n",
            "| Antigua and Barbuda|2016|   620332|Mens, boys jacket...|   Export|    12988|      1403.0|    Number of items|       648.0|62_articles_of_ap...|\n",
            "|            Pakistan|2016|   920999|Parts and accesso...|   Export|   359131|     66284.0|Weight in kilograms|     66284.0|92_musical_instru...|\n",
            "|             Albania|2013|   610322|Mens, boys ensemb...|   Import|   180103|     13031.0|    Number of items|     25763.0|61_articles_of_ap...|\n",
            "|          Azerbaijan|1998|   721119|Hot rolled iron o...|   Import|     6239|     64941.0|Weight in kilograms|     64941.0|   72_iron_and_steel|\n",
            "| Antigua and Barbuda|2009|   511120|Woven fabric, car...|   Import|     1482|        30.0|Weight in kilograms|        30.0|51_wool_animal_ha...|\n",
            "|             Namibia|2003|    50900|Sponges, natural,...|   Export|     6349|      6750.0|Weight in kilograms|      6750.0|05_products_of_an...|\n",
            "|             Germany|1991|   950330|Construction sets...|   Export| 29924000|   2649521.0|Weight in kilograms|   2649521.0|95_toys_games_spo...|\n",
            "|Central African Rep.|2008|   220290|Non-alcoholic bev...|   Import|    32470|     30725.0|   Volume in litres|     30725.0|22_beverages_spir...|\n",
            "|             Algeria|2010|    80300|Bananas, includin...|   Import|105558708|2.07859307E8|Weight in kilograms|2.07859307E8|08_edible_fruit_n...|\n",
            "|              France|2009|    71230|Mushrooms and tru...|Re-Import|   219297|      7400.0|Weight in kilograms|      7400.0|07_edible_vegetab...|\n",
            "|             Albania|2003|    71220|Onions, dried, no...|   Import|    13674|     30314.0|Weight in kilograms|     30314.0|07_edible_vegetab...|\n",
            "+--------------------+----+---------+--------------------+---------+---------+------------+-------------------+------------+--------------------+\n",
            "only showing top 20 rows\n",
            "\n"
          ]
        }
      ]
    },
    {
      "cell_type": "markdown",
      "source": [
        "##**1:** **The number of transactions involving Brazil.**"
      ],
      "metadata": {
        "id": "sNAc2sdQn8Cl"
      }
    },
    {
      "cell_type": "markdown",
      "source": [
        "**Dataframe Solution**"
      ],
      "metadata": {
        "id": "XjYJcdpg1fyj"
      }
    },
    {
      "cell_type": "code",
      "source": [
        "# Picking only the transactions from Brazil and counting the number\n",
        "df.filter(col('country_or_area') == 'Brazil').count()"
      ],
      "metadata": {
        "colab": {
          "base_uri": "https://localhost:8080/"
        },
        "id": "LJkZ1NWkoF8Z",
        "outputId": "c98f2beb-7e45-43ce-edcb-facf2804fca7"
      },
      "execution_count": 7,
      "outputs": [
        {
          "output_type": "execute_result",
          "data": {
            "text/plain": [
              "27463"
            ]
          },
          "metadata": {},
          "execution_count": 7
        }
      ]
    },
    {
      "cell_type": "markdown",
      "source": [
        "**SQL Query solution**"
      ],
      "metadata": {
        "id": "r_row4ZJ1fTE"
      }
    },
    {
      "cell_type": "code",
      "source": [
        "# Selecting the country Brazil to calculate number of transactions made\n",
        "query = '''\n",
        "        SELECT country_or_area AS pais, COUNT(country_or_area) AS count\n",
        "        FROM tabela\n",
        "        WHERE country_or_area = \"Brazil\"\n",
        "        GROUP BY country_or_area;\n",
        "        '''\n",
        "spark.sql(query).show(10)"
      ],
      "metadata": {
        "colab": {
          "base_uri": "https://localhost:8080/"
        },
        "id": "7jZbI4lgBtRC",
        "outputId": "e7cd7132-53be-4c71-9c4e-7ee2b5be6387"
      },
      "execution_count": 8,
      "outputs": [
        {
          "output_type": "stream",
          "name": "stdout",
          "text": [
            "+------+-----+\n",
            "|  pais|count|\n",
            "+------+-----+\n",
            "|Brazil|27463|\n",
            "+------+-----+\n",
            "\n"
          ]
        }
      ]
    },
    {
      "cell_type": "markdown",
      "source": [
        "##**2: The number of transactions per flow type and year.**"
      ],
      "metadata": {
        "id": "srwEZFfpn9HD"
      }
    },
    {
      "cell_type": "markdown",
      "source": [
        "**Dataframe Solution**"
      ],
      "metadata": {
        "id": "NK3lbZVS1Z0h"
      }
    },
    {
      "cell_type": "code",
      "source": [
        "# Grouping by year and flow to count the number of transactions\n",
        "df.groupBy(col('year'), col('flow')).count().show(10)"
      ],
      "metadata": {
        "colab": {
          "base_uri": "https://localhost:8080/"
        },
        "id": "BtbTLmGNpYSj",
        "outputId": "838bd6d2-34ce-4102-e28e-add4ceb2a5c8"
      },
      "execution_count": 9,
      "outputs": [
        {
          "output_type": "stream",
          "name": "stdout",
          "text": [
            "+----+---------+-----+\n",
            "|year|     flow|count|\n",
            "+----+---------+-----+\n",
            "|2011|   Import|31301|\n",
            "|2006|   Import|32301|\n",
            "|1994|Re-Export| 1079|\n",
            "|2009|   Export|17825|\n",
            "|1998|   Import|24881|\n",
            "|2012|   Export|17863|\n",
            "|1999|Re-Export| 2046|\n",
            "|2006|   Export|18585|\n",
            "|2015|Re-Import| 1479|\n",
            "|2014|Re-Import| 1457|\n",
            "+----+---------+-----+\n",
            "only showing top 10 rows\n",
            "\n"
          ]
        }
      ]
    },
    {
      "cell_type": "markdown",
      "source": [
        "**SQL Query solution**"
      ],
      "metadata": {
        "id": "TvNsfiAR1Y_B"
      }
    },
    {
      "cell_type": "code",
      "source": [
        "# Selecting and grouping by year and flow to count the number of transactions made\n",
        "query = '''\n",
        "        SELECT year, flow, COUNT(year, flow)\n",
        "        FROM tabela\n",
        "        GROUP BY year, flow;\n",
        "        '''\n",
        "spark.sql(query).show(10)"
      ],
      "metadata": {
        "colab": {
          "base_uri": "https://localhost:8080/"
        },
        "id": "RevOw1eqBFpL",
        "outputId": "3a347360-c61c-4787-c1aa-8b5f6d4b8459"
      },
      "execution_count": 10,
      "outputs": [
        {
          "output_type": "stream",
          "name": "stdout",
          "text": [
            "+----+---------+-----------------+\n",
            "|year|     flow|count(year, flow)|\n",
            "+----+---------+-----------------+\n",
            "|2011|   Import|            31301|\n",
            "|2006|   Import|            32301|\n",
            "|1994|Re-Export|             1079|\n",
            "|2009|   Export|            17825|\n",
            "|1998|   Import|            24881|\n",
            "|2012|   Export|            17863|\n",
            "|1999|Re-Export|             2046|\n",
            "|2006|   Export|            18585|\n",
            "|2015|Re-Import|             1479|\n",
            "|2014|Re-Import|             1457|\n",
            "+----+---------+-----------------+\n",
            "only showing top 10 rows\n",
            "\n"
          ]
        }
      ]
    },
    {
      "cell_type": "markdown",
      "source": [
        "##**3: The average of commodity values per year.**"
      ],
      "metadata": {
        "id": "jEkRqqPnn-KF"
      }
    },
    {
      "cell_type": "markdown",
      "source": [
        "**Dataframe Solution**"
      ],
      "metadata": {
        "id": "qrrsqwG-1UKx"
      }
    },
    {
      "cell_type": "code",
      "source": [
        "# Grouping by year to calculate the average commodity price\n",
        "df.groupBy(col('year'))\\\n",
        "  .agg(\n",
        "       avg(col('trade_usd')).alias('MEDIA'))\\\n",
        "  .orderBy(col('year').asc()).show(10)"
      ],
      "metadata": {
        "colab": {
          "base_uri": "https://localhost:8080/"
        },
        "id": "6uX1GBdNqmgv",
        "outputId": "8500782e-5ef5-441c-b90e-519d2d6602c7"
      },
      "execution_count": 11,
      "outputs": [
        {
          "output_type": "stream",
          "name": "stdout",
          "text": [
            "+----+--------------------+\n",
            "|year|               MEDIA|\n",
            "+----+--------------------+\n",
            "|1988| 1.864297055638571E7|\n",
            "|1989|1.1263871329920229E7|\n",
            "|1990| 1.172426586778952E7|\n",
            "|1991| 1.306922385515173E7|\n",
            "|1992|   9402960.863025468|\n",
            "|1993|1.0353959855309162E7|\n",
            "|1994|1.1350325049077941E7|\n",
            "|1995|1.2286454103356835E7|\n",
            "|1996|1.1945524161286663E7|\n",
            "|1997|   9549881.214776853|\n",
            "+----+--------------------+\n",
            "only showing top 10 rows\n",
            "\n"
          ]
        }
      ]
    },
    {
      "cell_type": "markdown",
      "source": [
        "**SQL Query solution**"
      ],
      "metadata": {
        "id": "oqU86RH21Wwm"
      }
    },
    {
      "cell_type": "code",
      "source": [
        "# Selecting year and the average commodity price to display in ascending order\n",
        "query = '''\n",
        "        SELECT year,\n",
        "               AVG(trade_usd) AS media\n",
        "        FROM tabela\n",
        "        GROUP BY year\n",
        "        ORDER BY year;\n",
        "        '''\n",
        "spark.sql(query).show(10)"
      ],
      "metadata": {
        "colab": {
          "base_uri": "https://localhost:8080/"
        },
        "id": "HoGOXc0DAy32",
        "outputId": "b4d0dd8f-94b3-4446-9795-be5f08beceb0"
      },
      "execution_count": 12,
      "outputs": [
        {
          "output_type": "stream",
          "name": "stdout",
          "text": [
            "+----+--------------------+\n",
            "|year|               media|\n",
            "+----+--------------------+\n",
            "|1988| 1.864297055638571E7|\n",
            "|1989|1.1263871329920229E7|\n",
            "|1990| 1.172426586778952E7|\n",
            "|1991| 1.306922385515173E7|\n",
            "|1992|   9402960.863025468|\n",
            "|1993|1.0353959855309162E7|\n",
            "|1994|1.1350325049077941E7|\n",
            "|1995|1.2286454103356835E7|\n",
            "|1996|1.1945524161286663E7|\n",
            "|1997|   9549881.214776853|\n",
            "+----+--------------------+\n",
            "only showing top 10 rows\n",
            "\n"
          ]
        }
      ]
    },
    {
      "cell_type": "markdown",
      "source": [
        "##**4: The average price of commodities per unit type, year, and category in the export flow in Brazil.**"
      ],
      "metadata": {
        "id": "DbPHCwZOn_Mf"
      }
    },
    {
      "cell_type": "markdown",
      "source": [
        "**Dataframe Solution**"
      ],
      "metadata": {
        "id": "BXLNRklp1Jid"
      }
    },
    {
      "cell_type": "code",
      "source": [
        "# Filtering to pick only the transations from the Export flow made by Brazil\n",
        "# Grouping by year, unit_type and category to then calculate the average commodity price\n",
        "df.filter(\n",
        "    (col('flow') == 'Export') & (col('country_or_area') == 'Brazil')) \\\n",
        "    .groupBy(col('year'),\n",
        "             col('quantity_name').alias('unit_type'),\n",
        "             col('category')) \\\n",
        "    .agg(avg('trade_usd').alias('average')).orderBy(col('year').desc(), col('unit_type').desc(), col('category').desc()).show(10)"
      ],
      "metadata": {
        "colab": {
          "base_uri": "https://localhost:8080/"
        },
        "id": "n0Gjzp0jge0d",
        "outputId": "d999ae64-df30-4b3a-f0cd-b95c7bb47917"
      },
      "execution_count": 13,
      "outputs": [
        {
          "output_type": "stream",
          "name": "stdout",
          "text": [
            "+----+-------------------+--------------------+--------------------+\n",
            "|year|          unit_type|            category|             average|\n",
            "+----+-------------------+--------------------+--------------------+\n",
            "|2016|Weight in kilograms|97_works_of_art_c...|            305909.0|\n",
            "|2016|Weight in kilograms|96_miscellaneous_...|           2152944.5|\n",
            "|2016|Weight in kilograms|95_toys_games_spo...|            667820.0|\n",
            "|2016|Weight in kilograms|94_furniture_ligh...|   5116585.142857143|\n",
            "|2016|Weight in kilograms|91_clocks_and_wat...|              1672.0|\n",
            "|2016|Weight in kilograms|88_aircraft_space...|        1.69835892E8|\n",
            "|2016|Weight in kilograms|87_vehicles_other...|1.4383903633333334E8|\n",
            "|2016|Weight in kilograms|86_railway_tramwa...|           4160027.0|\n",
            "|2016|Weight in kilograms|83_miscellaneous_...| 4.189034026666667E8|\n",
            "|2016|Weight in kilograms|82_tools_implemen...|           1865728.5|\n",
            "+----+-------------------+--------------------+--------------------+\n",
            "only showing top 10 rows\n",
            "\n"
          ]
        }
      ]
    },
    {
      "cell_type": "markdown",
      "source": [
        "**SQL Query solution**"
      ],
      "metadata": {
        "id": "3NHXg_LR1IA7"
      }
    },
    {
      "cell_type": "code",
      "source": [
        "# Selecting year, unit_type and category in the Export flow in Brazil\n",
        "# To calculate the average commodity price\n",
        "query = '''\n",
        "        SELECT year,\n",
        "               quantity_name AS unit_type,\n",
        "               category,\n",
        "               AVG(trade_usd) AS media\n",
        "        FROM tabela\n",
        "        WHERE flow = \"Export\" AND country_or_area = \"Brazil\"\n",
        "        GROUP BY year, unit_type, category\n",
        "        ORDER BY year DESC, unit_type DESC, category DESC;\n",
        "        '''\n",
        "spark.sql(query).show(10)"
      ],
      "metadata": {
        "colab": {
          "base_uri": "https://localhost:8080/"
        },
        "id": "zHsdXodSrhbZ",
        "outputId": "6843b5ee-2602-4827-b65a-c4d4941604d4"
      },
      "execution_count": 14,
      "outputs": [
        {
          "output_type": "stream",
          "name": "stdout",
          "text": [
            "+----+-------------------+--------------------+--------------------+\n",
            "|year|          unit_type|            category|               media|\n",
            "+----+-------------------+--------------------+--------------------+\n",
            "|2016|Weight in kilograms|97_works_of_art_c...|            305909.0|\n",
            "|2016|Weight in kilograms|96_miscellaneous_...|           2152944.5|\n",
            "|2016|Weight in kilograms|95_toys_games_spo...|            667820.0|\n",
            "|2016|Weight in kilograms|94_furniture_ligh...|   5116585.142857143|\n",
            "|2016|Weight in kilograms|91_clocks_and_wat...|              1672.0|\n",
            "|2016|Weight in kilograms|88_aircraft_space...|        1.69835892E8|\n",
            "|2016|Weight in kilograms|87_vehicles_other...|1.4383903633333334E8|\n",
            "|2016|Weight in kilograms|86_railway_tramwa...|           4160027.0|\n",
            "|2016|Weight in kilograms|83_miscellaneous_...| 4.189034026666667E8|\n",
            "|2016|Weight in kilograms|82_tools_implemen...|           1865728.5|\n",
            "+----+-------------------+--------------------+--------------------+\n",
            "only showing top 10 rows\n",
            "\n"
          ]
        }
      ]
    },
    {
      "cell_type": "markdown",
      "source": [
        "##**5: The maximum, minimum, and mean transaction price per unit type and year.**"
      ],
      "metadata": {
        "id": "dJjqTx1Un_-k"
      }
    },
    {
      "cell_type": "markdown",
      "source": [
        "**Dataframe solution**"
      ],
      "metadata": {
        "id": "9jSuBeaj0s2q"
      }
    },
    {
      "cell_type": "code",
      "source": [
        "# Grouping by year and unit_type\n",
        "# Then calculate the max, min and average commodity price\n",
        "df.groupBy(col('year'), col('quantity_name').alias('unit_type'))\\\n",
        "  .agg(min('trade_usd').alias('MIN'),\n",
        "       max('trade_usd').alias('MAX'),\n",
        "       avg('trade_usd').alias('MEDIA'))\\\n",
        "  .orderBy(col('year').desc(), col('unit_type').desc()).show(10)"
      ],
      "metadata": {
        "colab": {
          "base_uri": "https://localhost:8080/"
        },
        "id": "YG_K2a5GuZRl",
        "outputId": "4c470d26-5d28-4bde-9c5c-6dc53bd89546"
      },
      "execution_count": 15,
      "outputs": [
        {
          "output_type": "stream",
          "name": "stdout",
          "text": [
            "+----+--------------------+-------+-----------+--------------------+\n",
            "|year|           unit_type|    MIN|        MAX|               MEDIA|\n",
            "+----+--------------------+-------+-----------+--------------------+\n",
            "|2016| Weight in kilograms|      1|54041714444|2.9000750044637196E7|\n",
            "|2016|    Weight in carats|7957993|    9557468|           8757730.5|\n",
            "|2016|    Volume in litres|     11| 1547191989| 2.819293736598891E7|\n",
            "|2016|Volume in cubic m...|    203| 4052653026| 4.540399222794118E7|\n",
            "|2016|  Thousands of items|   1500|    8554139|           2027251.0|\n",
            "|2016|     Number of pairs|     20| 1865315579| 3.934150441324201E7|\n",
            "|2016|  Number of packages|   2666|  115285573|   6871851.043478261|\n",
            "|2016|     Number of items|      1|19782901523| 3.544705415630021E7|\n",
            "|2016|    Length in metres|     19|     961206|    74562.9512195122|\n",
            "|2016|Electrical energy...|1128262| 1065282687|     2.33217751375E8|\n",
            "+----+--------------------+-------+-----------+--------------------+\n",
            "only showing top 10 rows\n",
            "\n"
          ]
        }
      ]
    },
    {
      "cell_type": "markdown",
      "source": [
        "**SQL Query solution**"
      ],
      "metadata": {
        "id": "IYimkI9S000D"
      }
    },
    {
      "cell_type": "code",
      "source": [
        "# Selecting year and unit_type\n",
        "# To find the max, min and average commodity value\n",
        "query = '''\n",
        "        SELECT year,\n",
        "               quantity_name AS unit_type,\n",
        "               MAX(trade_usd) AS MIN,\n",
        "               MIN(trade_usd) AS MAX,\n",
        "               AVG(trade_usd) AS MEDIA\n",
        "        FROM tabela\n",
        "        GROUP BY year, unit_type\n",
        "        ORDER BY year DESC, unit_type DESC;\n",
        "        '''\n",
        "spark.sql(query).show(10)"
      ],
      "metadata": {
        "colab": {
          "base_uri": "https://localhost:8080/"
        },
        "id": "-1t0ze-jCZh-",
        "outputId": "9d3783af-cb7d-40d4-93c8-992731c4b15a"
      },
      "execution_count": 16,
      "outputs": [
        {
          "output_type": "stream",
          "name": "stdout",
          "text": [
            "+----+--------------------+-----------+-------+--------------------+\n",
            "|year|           unit_type|        MIN|    MAX|               MEDIA|\n",
            "+----+--------------------+-----------+-------+--------------------+\n",
            "|2016| Weight in kilograms|54041714444|      1|2.9000750044637196E7|\n",
            "|2016|    Weight in carats|    9557468|7957993|           8757730.5|\n",
            "|2016|    Volume in litres| 1547191989|     11| 2.819293736598891E7|\n",
            "|2016|Volume in cubic m...| 4052653026|    203| 4.540399222794118E7|\n",
            "|2016|  Thousands of items|    8554139|   1500|           2027251.0|\n",
            "|2016|     Number of pairs| 1865315579|     20| 3.934150441324201E7|\n",
            "|2016|  Number of packages|  115285573|   2666|   6871851.043478261|\n",
            "|2016|     Number of items|19782901523|      1| 3.544705415630021E7|\n",
            "|2016|    Length in metres|     961206|     19|    74562.9512195122|\n",
            "|2016|Electrical energy...| 1065282687|1128262|     2.33217751375E8|\n",
            "+----+--------------------+-----------+-------+--------------------+\n",
            "only showing top 10 rows\n",
            "\n"
          ]
        }
      ]
    },
    {
      "cell_type": "markdown",
      "source": [
        "##**6: The country with the largest average commodity price in the Export flow.**"
      ],
      "metadata": {
        "id": "mAhuaF8BoBI0"
      }
    },
    {
      "cell_type": "markdown",
      "source": [
        "**Dataframe Solution**"
      ],
      "metadata": {
        "id": "bNfUbXGk1r5r"
      }
    },
    {
      "cell_type": "code",
      "source": [
        "# Filtering the file to pick only the transactions from the Export flow.\n",
        "# Calculating the average price and limiting by 1 to find the highest value\n",
        "df.filter(\n",
        "    (col('flow') == 'Export')) \\\n",
        "    .groupBy(col('country_or_area').alias('country'))\\\n",
        "    .agg(\n",
        "       avg('trade_usd').alias('MEDIA'))\\\n",
        "    .orderBy(col('MEDIA').desc()).limit(1).show(10)"
      ],
      "metadata": {
        "colab": {
          "base_uri": "https://localhost:8080/"
        },
        "id": "EEKBxoHt1uPn",
        "outputId": "8dc43b84-aeea-4ebc-c848-d2eedb55f8cd"
      },
      "execution_count": 17,
      "outputs": [
        {
          "output_type": "stream",
          "name": "stdout",
          "text": [
            "+-------+--------------------+\n",
            "|country|               MEDIA|\n",
            "+-------+--------------------+\n",
            "| Angola|1.636966606814285...|\n",
            "+-------+--------------------+\n",
            "\n"
          ]
        }
      ]
    },
    {
      "cell_type": "markdown",
      "source": [
        "**SQL Query solution**"
      ],
      "metadata": {
        "id": "uL4uUnHg1qyl"
      }
    },
    {
      "cell_type": "code",
      "source": [
        "# Selecting the country and average price where flow is Export\n",
        "# Limiting by 1 to find the highest value and country\n",
        "query = '''\n",
        "        SELECT country_or_area AS country,\n",
        "               AVG(trade_usd) AS media\n",
        "        FROM tabela\n",
        "        WHERE flow = \"Export\"\n",
        "        GROUP BY country_or_area\n",
        "        ORDER BY media DESC\n",
        "        LIMIT 1;\n",
        "        '''\n",
        "spark.sql(query).show(10)"
      ],
      "metadata": {
        "id": "w6et6wgHCUA7",
        "colab": {
          "base_uri": "https://localhost:8080/"
        },
        "outputId": "aa8024e9-e188-4fa9-d9a4-56d0d7c00c85"
      },
      "execution_count": 18,
      "outputs": [
        {
          "output_type": "stream",
          "name": "stdout",
          "text": [
            "+-------+--------------------+\n",
            "|country|               media|\n",
            "+-------+--------------------+\n",
            "| Angola|1.636966606814285...|\n",
            "+-------+--------------------+\n",
            "\n"
          ]
        }
      ]
    },
    {
      "cell_type": "markdown",
      "source": [
        "##**7: The most commercialized commodity (summing the quantities) in 2016, per flow type.**"
      ],
      "metadata": {
        "id": "Z58wrOKvoCD_"
      }
    },
    {
      "cell_type": "markdown",
      "source": [
        "**Dataframe Solution**"
      ],
      "metadata": {
        "id": "xjxVEnWn-mOh"
      }
    },
    {
      "cell_type": "code",
      "source": [
        "# Selecting flow, commodity to sum the quantities in 2016\n",
        "df1 = df.filter(\n",
        "    (col('year') == '2016')) \\\n",
        "    .groupBy(col('flow').alias('flow1'), col('commodity'))\\\n",
        "    .agg(\n",
        "       sum(('quantity')).alias('Quant'))\n",
        "\n",
        "# Dataframe that holds the max value of the quantity\n",
        "df2 = df1.groupBy(col('flow1').alias('flow2'))\\\n",
        "    .agg(\n",
        "       max('Quant').alias('Max quant'))\n",
        "\n",
        "# Condition to perform the inner join operation\n",
        "cond = [col('flow1') == col('flow2'), col('Quant') == col('Max quant')]\n",
        "\n",
        "# Inner Join\n",
        "df1.join(df2, cond, 'inner')\\\n",
        "        .select(col('flow1').alias('flow'), col('commodity'), col('Quant'))\\\n",
        "        .orderBy(col('flow')).show(10)"
      ],
      "metadata": {
        "colab": {
          "base_uri": "https://localhost:8080/"
        },
        "id": "fhvi6INo-oOG",
        "outputId": "28d9f96b-f2b1-4f06-9506-3597d94c88a0"
      },
      "execution_count": 19,
      "outputs": [
        {
          "output_type": "stream",
          "name": "stdout",
          "text": [
            "+---------+--------------------+----------------+\n",
            "|     flow|           commodity|           Quant|\n",
            "+---------+--------------------+----------------+\n",
            "|   Export|Iron ore, concent...|3.79546246752E11|\n",
            "|   Import|Petroleum oils, o...|2.58289373308E11|\n",
            "|Re-Export|Safety razor blad...|      1.261968E9|\n",
            "|Re-Import|Chem wood pulp, s...|     3.8774873E7|\n",
            "+---------+--------------------+----------------+\n",
            "\n"
          ]
        }
      ]
    },
    {
      "cell_type": "markdown",
      "source": [
        "**SQL Query solution**"
      ],
      "metadata": {
        "id": "e9UXaJQv5D_i"
      }
    },
    {
      "cell_type": "code",
      "source": [
        "# Selecting flow, commodity and amount\n",
        "# Doing an inner join of subqueries to find the highest commodity in each flow type\n",
        "\n",
        "# First query: Summing the quantities\n",
        "# Second query: Getting the max value of the quantities\n",
        "query = '''\n",
        "        SELECT t1.flow, t1.commodity, t1.quantity as amount\n",
        "        FROM  (\n",
        "          SELECT commodity, flow, SUM(quantity) AS quantity\n",
        "          FROM tabela\n",
        "          WHERE year = '2016'\n",
        "          GROUP BY flow, commodity\n",
        "        ) as t1\n",
        "        INNER JOIN  (\n",
        "          SELECT flow, MAX(quantity) AS quantity\n",
        "          FROM  (\n",
        "            SELECT commodity, flow, SUM(quantity) AS quantity\n",
        "            FROM tabela\n",
        "            WHERE year = '2016'\n",
        "            GROUP BY flow, commodity\n",
        "          )\n",
        "          GROUP BY flow\n",
        "        ) as t2\n",
        "        ON t1.flow = t2.flow\n",
        "        AND t1.quantity = t2.quantity\n",
        "        ORDER BY t1.flow\n",
        "        '''\n",
        "spark.sql(query).show(10)"
      ],
      "metadata": {
        "id": "HPoFQSuuGlMd",
        "colab": {
          "base_uri": "https://localhost:8080/"
        },
        "outputId": "abb4abee-62c9-4837-e3f6-14e1b55db3e9"
      },
      "execution_count": 20,
      "outputs": [
        {
          "output_type": "stream",
          "name": "stdout",
          "text": [
            "+---------+--------------------+----------------+\n",
            "|     flow|           commodity|          amount|\n",
            "+---------+--------------------+----------------+\n",
            "|   Export|Iron ore, concent...|3.79546246752E11|\n",
            "|   Import|Petroleum oils, o...|2.58289373308E11|\n",
            "|Re-Export|Safety razor blad...|      1.261968E9|\n",
            "|Re-Import|Chem wood pulp, s...|     3.8774873E7|\n",
            "+---------+--------------------+----------------+\n",
            "\n"
          ]
        }
      ]
    }
  ]
}